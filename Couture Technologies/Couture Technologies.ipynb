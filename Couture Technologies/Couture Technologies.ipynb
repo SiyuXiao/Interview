{
 "cells": [
  {
   "cell_type": "code",
   "execution_count": 137,
   "metadata": {},
   "outputs": [],
   "source": [
    "# Solution by function\n",
    "def polygon(coor, lines, van, angle, cut):\n",
    "    a = np.sqrt((coor[cut[0]][0] - coor[cut[1]][0])**2 + (coor[cut[0]][1] - coor[cut[1]][1])**2)\n",
    "    b = np.sqrt((coor[cut[0]][0] - van[0])**2 + (coor[cut[0]][1] - van[1])**2)\n",
    "    c = np.sqrt((coor[cut[1]][0] - van[0])**2 + (coor[cut[1]][1] - van[1])**2)\n",
    "    cosine = (c**2 - a**2 - b**2) / (-2*a*b)\n",
    "    proj = b*cosine\n",
    "    sine = np.sqrt(1 - cosine**2)\n",
    "    perp = round(b * sine)\n",
    "    half = round(perp*np.tan((angle/2)*np.pi/180))\n",
    "    len1 = proj - half\n",
    "    len2 = proj + half\n",
    "    new1 = np.array([coor[cut[1]][0] - coor[cut[0]][0], coor[cut[1]][1] - coor[cut[0]][1]]) * (len1/a)\n",
    "    new2 = np.array([coor[cut[1]][0] - coor[cut[0]][0], coor[cut[1]][1] - coor[cut[0]][1]]) * (len2/a)\n",
    "    output_points = np.concatenate((coor, np.array([new1, van, new2])))\n",
    "    three = np.array([[cut[0], 6], [6, 7], [7, 8], [8, cut[1]]])\n",
    "    for i in range(len(lines)):\n",
    "        if lines[i][0] == cut[0] and lines[i][1] == cut[1]:\n",
    "            index = i\n",
    "            break\n",
    "    output_lines = np.concatenate((lines[:index], three, lines[index+1:]))\n",
    "    return output_points, output_lines"
   ]
  },
  {
   "cell_type": "code",
   "execution_count": 135,
   "metadata": {},
   "outputs": [],
   "source": [
    "# Solution by Class\n",
    "import numpy as np\n",
    "class polygon:\n",
    "    def output_points(self, coor, lines, van, angle, cut):\n",
    "        a = np.sqrt((coor[cut[0]][0] - coor[cut[1]][0])**2 + (coor[cut[0]][1] - coor[cut[1]][1])**2)\n",
    "        b = np.sqrt((coor[cut[0]][0] - van[0])**2 + (coor[cut[0]][1] - van[1])**2)\n",
    "        c = np.sqrt((coor[cut[1]][0] - van[0])**2 + (coor[cut[1]][1] - van[1])**2)\n",
    "        cosine = (c**2 - a**2 - b**2) / (-2*a*b)\n",
    "        proj = b*cosine\n",
    "        sine = np.sqrt(1 - cosine**2)\n",
    "        perp = round(b * sine)\n",
    "        half = round(perp*np.tan((angle/2)*np.pi/180))\n",
    "        len1 = proj - half\n",
    "        len2 = proj + half\n",
    "        new1 = np.array([coor[cut[1]][0] - coor[cut[0]][0], coor[cut[1]][1] - coor[cut[0]][1]]) * (len1/a)\n",
    "        new2 = np.array([coor[cut[1]][0] - coor[cut[0]][0], coor[cut[1]][1] - coor[cut[0]][1]]) * (len2/a)\n",
    "        output_points = np.concatenate((coor, np.array([new1, van, new2])))\n",
    "        return output_points\n",
    "    def output_lines(self, coor, lines, van, cut):\n",
    "        three = np.array([[cut[0], 6], [6, 7], [7, 8], [8, cut[1]]])\n",
    "        for i in range(len(lines)):\n",
    "            if lines[i][0] == cut[0] and lines[i][1] == cut[1]:\n",
    "                index = i\n",
    "                break\n",
    "        output_lines = np.concatenate((lines[:index], three, lines[index+1:]))\n",
    "        return output_lines"
   ]
  },
  {
   "cell_type": "code",
   "execution_count": 136,
   "metadata": {},
   "outputs": [
    {
     "name": "stdout",
     "output_type": "stream",
     "text": [
      "Output polygon points are okay\n",
      "Output polygon lines are okay\n"
     ]
    }
   ],
   "source": [
    "#A unit test for the cut angle operation\n",
    "polygon = polygon()\n",
    "coor = np.array([[0, 0], [0, 100], [50, 150], [75, 150], [100, 100], [100, 0]])\n",
    "lines = np.array([[0, 1], [1, 2], [2, 3], [3, 4], [4, 5], [5, 0]])\n",
    "cut = np.array([0, 1])\n",
    "van = np.array([50, 50])\n",
    "angle = 53.13\n",
    "def output_points():\n",
    "    should = np.array([[0., 0], [0, 100], [50, 150], [75, 150], [100, 100], [100, 0], [0, 25], [50, 50], [0, 75]])\n",
    "    output_points = polygon.output_points(coor, lines, van, angle, cut)\n",
    "    assert (output_points == should).all(), \"Output polygon points are not okay\"\n",
    "def output_lines():\n",
    "    should = np.array([[0, 6], [6, 7], [7, 8], [8, 1], [1, 2], [2, 3], [3, 4], [4, 5], [5, 0]])\n",
    "    output_lines = polygon.output_lines(coor, lines, van, cut)\n",
    "    assert (output_lines == should).all(), \"Output polygon lines are not okay\"\n",
    "if __name__ == \"__main__\":\n",
    "    output_points()\n",
    "    print(\"Output polygon points are okay\")\n",
    "    output_lines()\n",
    "    print(\"Output polygon lines are okay\")"
   ]
  },
  {
   "cell_type": "code",
   "execution_count": null,
   "metadata": {},
   "outputs": [],
   "source": []
  }
 ],
 "metadata": {
  "kernelspec": {
   "display_name": "Python 3",
   "language": "python",
   "name": "python3"
  },
  "language_info": {
   "codemirror_mode": {
    "name": "ipython",
    "version": 3
   },
   "file_extension": ".py",
   "mimetype": "text/x-python",
   "name": "python",
   "nbconvert_exporter": "python",
   "pygments_lexer": "ipython3",
   "version": "3.6.8"
  }
 },
 "nbformat": 4,
 "nbformat_minor": 2
}
