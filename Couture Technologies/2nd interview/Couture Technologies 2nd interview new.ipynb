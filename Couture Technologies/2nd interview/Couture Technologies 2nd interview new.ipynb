{
 "cells": [
  {
   "cell_type": "code",
   "execution_count": 25,
   "metadata": {},
   "outputs": [
    {
     "data": {
      "text/plain": [
       "129927"
      ]
     },
     "execution_count": 25,
     "metadata": {},
     "output_type": "execute_result"
    }
   ],
   "source": [
    "#Please put the code in the same directory with 'SimplifiedFashionDataset'\n",
    "import os\n",
    "import torch\n",
    "import numpy as np\n",
    "import torch.nn as nn\n",
    "from PIL import Image\n",
    "from numpy import asarray\n",
    "import torch.optim as optim\n",
    "Jumpsuit = 'SimplifiedFashionDataset/Jumpsuit'\n",
    "Jumpsuit_label = np.full(len(os.listdir(Jumpsuit)), 0)\n",
    "Dress = 'SimplifiedFashionDataset/Dress'\n",
    "Dress_label = np.full(len(os.listdir(Dress)), 1)\n",
    "Skirt = 'SimplifiedFashionDataset/Skirt'\n",
    "Skirt_label = np.full(len(os.listdir(Skirt)), 2)\n",
    "Tee = 'SimplifiedFashionDataset/Tee'\n",
    "Tee_label = np.full(len(os.listdir(Tee)), 3)\n",
    "label_name = {0:'Jumpsuit', 1:'Dress', 2:'Skirt', 3:'Tee'}\n",
    "file_name = os.listdir(Jumpsuit) + os.listdir(Dress) + os.listdir(Skirt) + os.listdir(Tee)\n",
    "label = np.concatenate((Jumpsuit_label, Dress_label, Skirt_label, Tee_label))\n",
    "len(label)"
   ]
  },
  {
   "cell_type": "code",
   "execution_count": 29,
   "metadata": {},
   "outputs": [],
   "source": [
    "#I use CNN to classify the images in PyTorch\n",
    "class myClassifier(nn.Module):\n",
    "    def __init__(self):\n",
    "        super(myClassifier, self).__init__()\n",
    "        self.block1 = self.conv_block(c_in=3, c_out=128, kernel_size=5, stride=1, padding=2)\n",
    "        self.block2 = self.conv_block(c_in=128, c_out=64, kernel_size=3, stride=1, padding=1)\n",
    "        self.block3 = self.conv_block(c_in=64, c_out=32, kernel_size=3, stride=1, padding=1)\n",
    "        self.lastcnn = nn.Conv2d(in_channels=32, out_channels=4, kernel_size=50, stride=1, padding=0)\n",
    "        self.maxpool = nn.MaxPool2d(kernel_size=2, stride=2)\n",
    "    def forward(self, x):\n",
    "        x = self.block1(x)\n",
    "        x = self.maxpool(x)\n",
    "        x = self.block2(x)\n",
    "        x = self.block3(x)\n",
    "        x = self.maxpool(x)\n",
    "        x = self.lastcnn(x)\n",
    "        return x\n",
    "    def conv_block(self, c_in, c_out, **kwargs):\n",
    "        seq_block = nn.Sequential(\n",
    "            nn.Conv2d(in_channels=c_in, out_channels=c_out, **kwargs),\n",
    "            nn.BatchNorm2d(num_features=c_out),\n",
    "            nn.ReLU()\n",
    "        )\n",
    "        return seq_block\n",
    "net = myClassifier()\n",
    "criterion = nn.CrossEntropyLoss()\n",
    "optimizer = optim.SGD(net.parameters(), lr=0.001, momentum=0.9)"
   ]
  },
  {
   "cell_type": "code",
   "execution_count": 30,
   "metadata": {},
   "outputs": [],
   "source": [
    "#Considering I don't have GPU and running time is too long, I only randomly use 200 images as training dataset\n",
    "def train(net):\n",
    "    for epoch in range(1):\n",
    "        for index in np.random.randint(0, len(label), 200):\n",
    "            optimizer.zero_grad()\n",
    "            image_path = 'SimplifiedFashionDataset/'+ label_name[label[index]] + '/' + file_name[index]\n",
    "            img = Image.open(image_path)\n",
    "            new = img.resize((200, 200))\n",
    "            data = asarray(new)\n",
    "            outputs = net(torch.from_numpy(-1+(2/255)*data).float().view(1, 3, 200, 200))\n",
    "            loss = criterion(outputs, torch.tensor([[[label[index]]]], dtype=torch.long))\n",
    "            loss.backward()\n",
    "            optimizer.step()\n",
    "train(net)"
   ]
  },
  {
   "cell_type": "code",
   "execution_count": 34,
   "metadata": {},
   "outputs": [
    {
     "data": {
      "text/plain": [
       "tensor(59)"
      ]
     },
     "execution_count": 34,
     "metadata": {},
     "output_type": "execute_result"
    }
   ],
   "source": [
    "#I use 100 images as test dataset and 68 of them are predicted correctly\n",
    "#If I train them with more dataset, more time and use GPU to train, I believe the accuracy must be much higher\n",
    "correct = 0\n",
    "with torch.no_grad():\n",
    "    for index in np.random.randint(0, len(label), 100):\n",
    "        image_path = 'SimplifiedFashionDataset/'+ label_name[label[index]] + '/' + file_name[index]\n",
    "        img = Image.open(image_path)\n",
    "        new = img.resize((200, 200))\n",
    "        data = asarray(new)\n",
    "        outputs = net(torch.from_numpy(-1+(2/255)*data).float().view(1, 3, 200, 200))\n",
    "        _, predicted = torch.max(outputs.data, 1)\n",
    "        correct += (predicted == label[index]).sum()\n",
    "correct"
   ]
  },
  {
   "cell_type": "code",
   "execution_count": 1,
   "metadata": {},
   "outputs": [],
   "source": [
    "import os\n",
    "import torch\n",
    "import numpy as np\n",
    "import torch.nn as nn\n",
    "from PIL import Image\n",
    "from numpy import asarray\n",
    "import torch.optim as optim\n",
    "import torch.nn.functional as F\n",
    "Jumpsuit = 'SimplifiedFashionDataset/Jumpsuit'\n",
    "Jumpsuit_label = np.full(len(os.listdir(Jumpsuit)), 0)\n",
    "Dress = 'SimplifiedFashionDataset/Dress'\n",
    "Dress_label = np.full(len(os.listdir(Dress)), 1)\n",
    "Skirt = 'SimplifiedFashionDataset/Skirt'\n",
    "Skirt_label = np.full(len(os.listdir(Skirt)), 2)\n",
    "Tee = 'SimplifiedFashionDataset/Tee'\n",
    "Tee_label = np.full(len(os.listdir(Tee)), 3)\n",
    "label_name = {0:'Jumpsuit', 1:'Dress', 2:'Skirt', 3:'Tee'}\n",
    "file_name = os.listdir(Jumpsuit) + os.listdir(Dress) + os.listdir(Skirt) + os.listdir(Tee)\n",
    "label = np.concatenate((Jumpsuit_label, Dress_label, Skirt_label, Tee_label))"
   ]
  },
  {
   "cell_type": "code",
   "execution_count": 6,
   "metadata": {},
   "outputs": [],
   "source": [
    "class Net(nn.Module):\n",
    "    def __init__(self):\n",
    "        super(Net, self).__init__()\n",
    "        self.conv1 = nn.Conv2d(3, 6, 5)\n",
    "        self.pool = nn.MaxPool2d(2, 2)\n",
    "        self.conv2 = nn.Conv2d(6, 16, 5)\n",
    "        self.fc1 = nn.Linear(16 * 47 * 47, 120)\n",
    "        self.fc2 = nn.Linear(120, 84)\n",
    "        self.fc3 = nn.Linear(84, 4)\n",
    "    def forward(self, x):\n",
    "        x = self.pool(F.relu(self.conv1(x)))\n",
    "        x = self.pool(F.relu(self.conv2(x)))\n",
    "        x = x.view(-1, 16 * 47 * 47)\n",
    "        x = F.relu(self.fc1(x))\n",
    "        x = F.relu(self.fc2(x))\n",
    "        x = self.fc3(x)\n",
    "        return x\n",
    "net = Net()\n",
    "criterion = nn.CrossEntropyLoss()\n",
    "optimizer = optim.SGD(net.parameters(), lr=0.001, momentum=0.9)"
   ]
  },
  {
   "cell_type": "code",
   "execution_count": 12,
   "metadata": {},
   "outputs": [],
   "source": [
    "def train(net):\n",
    "    for epoch in range(1):\n",
    "        for index in np.random.randint(0, len(label), 2000):\n",
    "            optimizer.zero_grad()\n",
    "            image_path = 'SimplifiedFashionDataset/'+ label_name[label[index]] + '/' + file_name[index]\n",
    "            img = Image.open(image_path)\n",
    "            new = img.resize((200, 200))\n",
    "            data = asarray(new)\n",
    "            outputs = net(torch.from_numpy(-1+(2/255)*data).float().view(1, 3, 200, 200))\n",
    "            loss = criterion(outputs, torch.tensor([label[index]], dtype=torch.long))\n",
    "            loss.backward()\n",
    "            optimizer.step()\n",
    "train(net)"
   ]
  },
  {
   "cell_type": "code",
   "execution_count": 24,
   "metadata": {},
   "outputs": [
    {
     "data": {
      "text/plain": [
       "tensor(551)"
      ]
     },
     "execution_count": 24,
     "metadata": {},
     "output_type": "execute_result"
    }
   ],
   "source": [
    "correct = 0\n",
    "with torch.no_grad():\n",
    "    for index in np.random.randint(0, len(label), 1000):\n",
    "        image_path = 'SimplifiedFashionDataset/'+ label_name[label[index]] + '/' + file_name[index]\n",
    "        img = Image.open(image_path)\n",
    "        new = img.resize((200, 200))\n",
    "        data = asarray(new)\n",
    "        outputs = net(torch.from_numpy(-1+(2/255)*data).float().view(1, 3, 200, 200))\n",
    "        _, predicted = torch.max(outputs.data, 1)\n",
    "        correct += (predicted == label[index]).sum()\n",
    "correct"
   ]
  }
 ],
 "metadata": {
  "kernelspec": {
   "display_name": "Python 3",
   "language": "python",
   "name": "python3"
  },
  "language_info": {
   "codemirror_mode": {
    "name": "ipython",
    "version": 3
   },
   "file_extension": ".py",
   "mimetype": "text/x-python",
   "name": "python",
   "nbconvert_exporter": "python",
   "pygments_lexer": "ipython3",
   "version": "3.6.8"
  }
 },
 "nbformat": 4,
 "nbformat_minor": 2
}
