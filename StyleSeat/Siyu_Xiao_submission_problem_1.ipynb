{
 "cells": [
  {
   "cell_type": "code",
   "execution_count": 11,
   "metadata": {},
   "outputs": [],
   "source": [
    "import pandas as pd\n",
    "from sklearn.preprocessing import LabelBinarizer\n",
    "from sklearn import tree"
   ]
  },
  {
   "cell_type": "code",
   "execution_count": 12,
   "metadata": {},
   "outputs": [
    {
     "data": {
      "text/html": [
       "<div>\n",
       "<style scoped>\n",
       "    .dataframe tbody tr th:only-of-type {\n",
       "        vertical-align: middle;\n",
       "    }\n",
       "\n",
       "    .dataframe tbody tr th {\n",
       "        vertical-align: top;\n",
       "    }\n",
       "\n",
       "    .dataframe thead th {\n",
       "        text-align: right;\n",
       "    }\n",
       "</style>\n",
       "<table border=\"1\" class=\"dataframe\">\n",
       "  <thead>\n",
       "    <tr style=\"text-align: right;\">\n",
       "      <th></th>\n",
       "      <th>service_name</th>\n",
       "      <th>service_category</th>\n",
       "    </tr>\n",
       "  </thead>\n",
       "  <tbody>\n",
       "    <tr>\n",
       "      <th>0</th>\n",
       "      <td>Fade, Beard Trim, Line Up</td>\n",
       "      <td>Barber</td>\n",
       "    </tr>\n",
       "    <tr>\n",
       "      <th>1</th>\n",
       "      <td>Crochet (bulk hair)</td>\n",
       "      <td>Braids</td>\n",
       "    </tr>\n",
       "    <tr>\n",
       "      <th>2</th>\n",
       "      <td>Loc Maintenance w/demi color</td>\n",
       "      <td>Natural Hair</td>\n",
       "    </tr>\n",
       "    <tr>\n",
       "      <th>3</th>\n",
       "      <td>Buns &amp; Ponytails</td>\n",
       "      <td>Style</td>\n",
       "    </tr>\n",
       "    <tr>\n",
       "      <th>4</th>\n",
       "      <td>Full Leg Wax, Under arms</td>\n",
       "      <td>Waxing</td>\n",
       "    </tr>\n",
       "    <tr>\n",
       "      <th>...</th>\n",
       "      <td>...</td>\n",
       "      <td>...</td>\n",
       "    </tr>\n",
       "    <tr>\n",
       "      <th>17995</th>\n",
       "      <td>Fibroids No More Consultation</td>\n",
       "      <td>Special Occasion Style</td>\n",
       "    </tr>\n",
       "    <tr>\n",
       "      <th>17996</th>\n",
       "      <td>Blowout, Root retouch (gray coverage)</td>\n",
       "      <td>Style</td>\n",
       "    </tr>\n",
       "    <tr>\n",
       "      <th>17997</th>\n",
       "      <td>Silk press w/ Trim, Blonding(ADD ON ONLY), Dry...</td>\n",
       "      <td>Natural Hair, Hair Color, Hair Treatments</td>\n",
       "    </tr>\n",
       "    <tr>\n",
       "      <th>17998</th>\n",
       "      <td>Full Set, No Chip Gel Polish add/service, Nail...</td>\n",
       "      <td>Extensions</td>\n",
       "    </tr>\n",
       "    <tr>\n",
       "      <th>17999</th>\n",
       "      <td>7-9 Feed in Braids</td>\n",
       "      <td>Braids</td>\n",
       "    </tr>\n",
       "  </tbody>\n",
       "</table>\n",
       "<p>18000 rows × 2 columns</p>\n",
       "</div>"
      ],
      "text/plain": [
       "                                            service_name  \\\n",
       "0                              Fade, Beard Trim, Line Up   \n",
       "1                                    Crochet (bulk hair)   \n",
       "2                           Loc Maintenance w/demi color   \n",
       "3                                       Buns & Ponytails   \n",
       "4                               Full Leg Wax, Under arms   \n",
       "...                                                  ...   \n",
       "17995                      Fibroids No More Consultation   \n",
       "17996              Blowout, Root retouch (gray coverage)   \n",
       "17997  Silk press w/ Trim, Blonding(ADD ON ONLY), Dry...   \n",
       "17998  Full Set, No Chip Gel Polish add/service, Nail...   \n",
       "17999                                 7-9 Feed in Braids   \n",
       "\n",
       "                                service_category  \n",
       "0                                         Barber  \n",
       "1                                         Braids  \n",
       "2                                   Natural Hair  \n",
       "3                                          Style  \n",
       "4                                         Waxing  \n",
       "...                                          ...  \n",
       "17995                     Special Occasion Style  \n",
       "17996                                      Style  \n",
       "17997  Natural Hair, Hair Color, Hair Treatments  \n",
       "17998                                 Extensions  \n",
       "17999                                     Braids  \n",
       "\n",
       "[18000 rows x 2 columns]"
      ]
     },
     "execution_count": 12,
     "metadata": {},
     "output_type": "execute_result"
    }
   ],
   "source": [
    "data = pd.read_csv('training_data - training_data.csv')\n",
    "data"
   ]
  },
  {
   "cell_type": "code",
   "execution_count": 13,
   "metadata": {},
   "outputs": [
    {
     "data": {
      "text/html": [
       "<div>\n",
       "<style scoped>\n",
       "    .dataframe tbody tr th:only-of-type {\n",
       "        vertical-align: middle;\n",
       "    }\n",
       "\n",
       "    .dataframe tbody tr th {\n",
       "        vertical-align: top;\n",
       "    }\n",
       "\n",
       "    .dataframe thead th {\n",
       "        text-align: right;\n",
       "    }\n",
       "</style>\n",
       "<table border=\"1\" class=\"dataframe\">\n",
       "  <thead>\n",
       "    <tr style=\"text-align: right;\">\n",
       "      <th></th>\n",
       "      <th>service_name</th>\n",
       "      <th>service_category</th>\n",
       "    </tr>\n",
       "  </thead>\n",
       "  <tbody>\n",
       "    <tr>\n",
       "      <th>0</th>\n",
       "      <td>Fade, Beard Trim, Line Up</td>\n",
       "      <td>Barber</td>\n",
       "    </tr>\n",
       "    <tr>\n",
       "      <th>1</th>\n",
       "      <td>Crochet (bulk hair)</td>\n",
       "      <td>Braids</td>\n",
       "    </tr>\n",
       "    <tr>\n",
       "      <th>2</th>\n",
       "      <td>Loc Maintenance w/demi color</td>\n",
       "      <td>Natural Hair</td>\n",
       "    </tr>\n",
       "    <tr>\n",
       "      <th>3</th>\n",
       "      <td>Buns &amp; Ponytails</td>\n",
       "      <td>Style</td>\n",
       "    </tr>\n",
       "    <tr>\n",
       "      <th>4</th>\n",
       "      <td>Full Leg Wax, Under arms</td>\n",
       "      <td>Waxing</td>\n",
       "    </tr>\n",
       "    <tr>\n",
       "      <th>...</th>\n",
       "      <td>...</td>\n",
       "      <td>...</td>\n",
       "    </tr>\n",
       "    <tr>\n",
       "      <th>15995</th>\n",
       "      <td>Updo, All Over Color</td>\n",
       "      <td>Hair Color</td>\n",
       "    </tr>\n",
       "    <tr>\n",
       "      <th>15996</th>\n",
       "      <td>Men's Cut, color exprss</td>\n",
       "      <td>Men's Haircut</td>\n",
       "    </tr>\n",
       "    <tr>\n",
       "      <th>15997</th>\n",
       "      <td>Men's Cut Designer, Boy's Cut Designer, Beard ...</td>\n",
       "      <td>Barber</td>\n",
       "    </tr>\n",
       "    <tr>\n",
       "      <th>15998</th>\n",
       "      <td>Shampoo, Flat Iron</td>\n",
       "      <td>Style</td>\n",
       "    </tr>\n",
       "    <tr>\n",
       "      <th>15999</th>\n",
       "      <td>Relaxer(touch-up)</td>\n",
       "      <td>Relaxers</td>\n",
       "    </tr>\n",
       "  </tbody>\n",
       "</table>\n",
       "<p>16000 rows × 2 columns</p>\n",
       "</div>"
      ],
      "text/plain": [
       "                                            service_name service_category\n",
       "0                              Fade, Beard Trim, Line Up           Barber\n",
       "1                                    Crochet (bulk hair)           Braids\n",
       "2                           Loc Maintenance w/demi color     Natural Hair\n",
       "3                                       Buns & Ponytails            Style\n",
       "4                               Full Leg Wax, Under arms           Waxing\n",
       "...                                                  ...              ...\n",
       "15995                               Updo, All Over Color       Hair Color\n",
       "15996                            Men's Cut, color exprss    Men's Haircut\n",
       "15997  Men's Cut Designer, Boy's Cut Designer, Beard ...           Barber\n",
       "15998                                 Shampoo, Flat Iron            Style\n",
       "15999                                  Relaxer(touch-up)         Relaxers\n",
       "\n",
       "[16000 rows x 2 columns]"
      ]
     },
     "execution_count": 13,
     "metadata": {},
     "output_type": "execute_result"
    }
   ],
   "source": [
    "train = data[:16000]\n",
    "train"
   ]
  },
  {
   "cell_type": "code",
   "execution_count": 14,
   "metadata": {},
   "outputs": [
    {
     "data": {
      "text/html": [
       "<div>\n",
       "<style scoped>\n",
       "    .dataframe tbody tr th:only-of-type {\n",
       "        vertical-align: middle;\n",
       "    }\n",
       "\n",
       "    .dataframe tbody tr th {\n",
       "        vertical-align: top;\n",
       "    }\n",
       "\n",
       "    .dataframe thead th {\n",
       "        text-align: right;\n",
       "    }\n",
       "</style>\n",
       "<table border=\"1\" class=\"dataframe\">\n",
       "  <thead>\n",
       "    <tr style=\"text-align: right;\">\n",
       "      <th></th>\n",
       "      <th>service_name</th>\n",
       "      <th>service_category</th>\n",
       "    </tr>\n",
       "  </thead>\n",
       "  <tbody>\n",
       "    <tr>\n",
       "      <th>16000</th>\n",
       "      <td>Gel Manicure, Pedicure, Add Glitter</td>\n",
       "      <td>Manicure, Pedicure</td>\n",
       "    </tr>\n",
       "    <tr>\n",
       "      <th>16001</th>\n",
       "      <td>Acrylic FILL</td>\n",
       "      <td>Manicure</td>\n",
       "    </tr>\n",
       "    <tr>\n",
       "      <th>16002</th>\n",
       "      <td>Crochet Braids, Demi color</td>\n",
       "      <td>Braids</td>\n",
       "    </tr>\n",
       "    <tr>\n",
       "      <th>16003</th>\n",
       "      <td>Brazilian Blowout, Full Color, Extensions</td>\n",
       "      <td>Straightening Treatments, Extensions</td>\n",
       "    </tr>\n",
       "    <tr>\n",
       "      <th>16004</th>\n",
       "      <td>Color correction, Adding olaplex to color serv...</td>\n",
       "      <td>Hair Color</td>\n",
       "    </tr>\n",
       "    <tr>\n",
       "      <th>...</th>\n",
       "      <td>...</td>\n",
       "      <td>...</td>\n",
       "    </tr>\n",
       "    <tr>\n",
       "      <th>17995</th>\n",
       "      <td>Fibroids No More Consultation</td>\n",
       "      <td>Special Occasion Style</td>\n",
       "    </tr>\n",
       "    <tr>\n",
       "      <th>17996</th>\n",
       "      <td>Blowout, Root retouch (gray coverage)</td>\n",
       "      <td>Style</td>\n",
       "    </tr>\n",
       "    <tr>\n",
       "      <th>17997</th>\n",
       "      <td>Silk press w/ Trim, Blonding(ADD ON ONLY), Dry...</td>\n",
       "      <td>Natural Hair, Hair Color, Hair Treatments</td>\n",
       "    </tr>\n",
       "    <tr>\n",
       "      <th>17998</th>\n",
       "      <td>Full Set, No Chip Gel Polish add/service, Nail...</td>\n",
       "      <td>Extensions</td>\n",
       "    </tr>\n",
       "    <tr>\n",
       "      <th>17999</th>\n",
       "      <td>7-9 Feed in Braids</td>\n",
       "      <td>Braids</td>\n",
       "    </tr>\n",
       "  </tbody>\n",
       "</table>\n",
       "<p>2000 rows × 2 columns</p>\n",
       "</div>"
      ],
      "text/plain": [
       "                                            service_name  \\\n",
       "16000                Gel Manicure, Pedicure, Add Glitter   \n",
       "16001                                       Acrylic FILL   \n",
       "16002                         Crochet Braids, Demi color   \n",
       "16003          Brazilian Blowout, Full Color, Extensions   \n",
       "16004  Color correction, Adding olaplex to color serv...   \n",
       "...                                                  ...   \n",
       "17995                      Fibroids No More Consultation   \n",
       "17996              Blowout, Root retouch (gray coverage)   \n",
       "17997  Silk press w/ Trim, Blonding(ADD ON ONLY), Dry...   \n",
       "17998  Full Set, No Chip Gel Polish add/service, Nail...   \n",
       "17999                                 7-9 Feed in Braids   \n",
       "\n",
       "                                service_category  \n",
       "16000                         Manicure, Pedicure  \n",
       "16001                                   Manicure  \n",
       "16002                                     Braids  \n",
       "16003       Straightening Treatments, Extensions  \n",
       "16004                                 Hair Color  \n",
       "...                                          ...  \n",
       "17995                     Special Occasion Style  \n",
       "17996                                      Style  \n",
       "17997  Natural Hair, Hair Color, Hair Treatments  \n",
       "17998                                 Extensions  \n",
       "17999                                     Braids  \n",
       "\n",
       "[2000 rows x 2 columns]"
      ]
     },
     "execution_count": 14,
     "metadata": {},
     "output_type": "execute_result"
    }
   ],
   "source": [
    "validate = data[16000:]\n",
    "validate"
   ]
  },
  {
   "cell_type": "code",
   "execution_count": 15,
   "metadata": {},
   "outputs": [
    {
     "data": {
      "text/html": [
       "<div>\n",
       "<style scoped>\n",
       "    .dataframe tbody tr th:only-of-type {\n",
       "        vertical-align: middle;\n",
       "    }\n",
       "\n",
       "    .dataframe tbody tr th {\n",
       "        vertical-align: top;\n",
       "    }\n",
       "\n",
       "    .dataframe thead th {\n",
       "        text-align: right;\n",
       "    }\n",
       "</style>\n",
       "<table border=\"1\" class=\"dataframe\">\n",
       "  <thead>\n",
       "    <tr style=\"text-align: right;\">\n",
       "      <th></th>\n",
       "      <th>service_name</th>\n",
       "    </tr>\n",
       "  </thead>\n",
       "  <tbody>\n",
       "    <tr>\n",
       "      <th>0</th>\n",
       "      <td>Microlink silk press</td>\n",
       "    </tr>\n",
       "    <tr>\n",
       "      <th>1</th>\n",
       "      <td>Full sewin no leaveout, Eyebrow Arch + enhance...</td>\n",
       "    </tr>\n",
       "    <tr>\n",
       "      <th>2</th>\n",
       "      <td>Corrective Color no cut</td>\n",
       "    </tr>\n",
       "    <tr>\n",
       "      <th>3</th>\n",
       "      <td>KAE Classic *$70 SPECIAL*</td>\n",
       "    </tr>\n",
       "    <tr>\n",
       "      <th>4</th>\n",
       "      <td>loc style</td>\n",
       "    </tr>\n",
       "    <tr>\n",
       "      <th>...</th>\n",
       "      <td>...</td>\n",
       "    </tr>\n",
       "    <tr>\n",
       "      <th>1995</th>\n",
       "      <td>Brow Tint, Brow Clean Up</td>\n",
       "    </tr>\n",
       "    <tr>\n",
       "      <th>1996</th>\n",
       "      <td>Relaxer, Demi-permanent hair color, Shine Enha...</td>\n",
       "    </tr>\n",
       "    <tr>\n",
       "      <th>1997</th>\n",
       "      <td>Back 2 School Jumbo Box Braid Special</td>\n",
       "    </tr>\n",
       "    <tr>\n",
       "      <th>1998</th>\n",
       "      <td>Mens Twist Sponge/Specialty</td>\n",
       "    </tr>\n",
       "    <tr>\n",
       "      <th>1999</th>\n",
       "      <td>Women's Cut, Shades EQ Gloss</td>\n",
       "    </tr>\n",
       "  </tbody>\n",
       "</table>\n",
       "<p>2000 rows × 1 columns</p>\n",
       "</div>"
      ],
      "text/plain": [
       "                                           service_name\n",
       "0                                  Microlink silk press\n",
       "1     Full sewin no leaveout, Eyebrow Arch + enhance...\n",
       "2                               Corrective Color no cut\n",
       "3                             KAE Classic *$70 SPECIAL*\n",
       "4                                             loc style\n",
       "...                                                 ...\n",
       "1995                           Brow Tint, Brow Clean Up\n",
       "1996  Relaxer, Demi-permanent hair color, Shine Enha...\n",
       "1997              Back 2 School Jumbo Box Braid Special\n",
       "1998                        Mens Twist Sponge/Specialty\n",
       "1999                       Women's Cut, Shades EQ Gloss\n",
       "\n",
       "[2000 rows x 1 columns]"
      ]
     },
     "execution_count": 15,
     "metadata": {},
     "output_type": "execute_result"
    }
   ],
   "source": [
    "test = pd.read_csv('testing_data - testing_data.csv')\n",
    "test"
   ]
  },
  {
   "cell_type": "code",
   "execution_count": 16,
   "metadata": {},
   "outputs": [
    {
     "data": {
      "text/plain": [
       "(16000, 3468)"
      ]
     },
     "execution_count": 16,
     "metadata": {},
     "output_type": "execute_result"
    }
   ],
   "source": [
    "from sklearn.feature_extraction.text import CountVectorizer\n",
    "count_vect = CountVectorizer()\n",
    "X_train_counts = count_vect.fit_transform(train.service_name)\n",
    "X_train_counts.shape"
   ]
  },
  {
   "cell_type": "code",
   "execution_count": 17,
   "metadata": {},
   "outputs": [
    {
     "data": {
      "text/plain": [
       "<16000x3468 sparse matrix of type '<class 'numpy.int64'>'\n",
       "\twith 81768 stored elements in Compressed Sparse Row format>"
      ]
     },
     "execution_count": 17,
     "metadata": {},
     "output_type": "execute_result"
    }
   ],
   "source": [
    "X_train_counts"
   ]
  },
  {
   "cell_type": "code",
   "execution_count": 20,
   "metadata": {},
   "outputs": [
    {
     "data": {
      "text/plain": [
       "array([[0, 0, 0, ..., 0, 0, 0],\n",
       "       [0, 0, 0, ..., 0, 0, 0],\n",
       "       [0, 0, 0, ..., 0, 0, 0],\n",
       "       ...,\n",
       "       [0, 0, 0, ..., 0, 0, 0],\n",
       "       [0, 0, 0, ..., 0, 0, 0],\n",
       "       [0, 0, 0, ..., 0, 0, 0]])"
      ]
     },
     "execution_count": 20,
     "metadata": {},
     "output_type": "execute_result"
    }
   ],
   "source": [
    "X_train_counts.toarray()"
   ]
  },
  {
   "cell_type": "code",
   "execution_count": 8,
   "metadata": {},
   "outputs": [
    {
     "data": {
      "text/plain": [
       "(16000, 3468)"
      ]
     },
     "execution_count": 8,
     "metadata": {},
     "output_type": "execute_result"
    }
   ],
   "source": [
    "from sklearn.feature_extraction.text import TfidfTransformer\n",
    "tf_transformer = TfidfTransformer(use_idf=False).fit(X_train_counts)\n",
    "X_train_tf = tf_transformer.transform(X_train_counts)\n",
    "X_train_tf.shape"
   ]
  },
  {
   "cell_type": "code",
   "execution_count": 9,
   "metadata": {},
   "outputs": [
    {
     "data": {
      "text/plain": [
       "<16000x3468 sparse matrix of type '<class 'numpy.float64'>'\n",
       "\twith 81768 stored elements in Compressed Sparse Row format>"
      ]
     },
     "execution_count": 9,
     "metadata": {},
     "output_type": "execute_result"
    }
   ],
   "source": [
    "X_train_tf"
   ]
  },
  {
   "cell_type": "code",
   "execution_count": 25,
   "metadata": {},
   "outputs": [
    {
     "data": {
      "text/plain": [
       "(16000, 3468)"
      ]
     },
     "execution_count": 25,
     "metadata": {},
     "output_type": "execute_result"
    }
   ],
   "source": [
    "tfidf_transformer = TfidfTransformer()\n",
    "X_train_tfidf = tfidf_transformer.fit_transform(X_train_counts)\n",
    "X_train_tfidf.shape"
   ]
  },
  {
   "cell_type": "code",
   "execution_count": 28,
   "metadata": {},
   "outputs": [],
   "source": [
    "from sklearn.naive_bayes import MultinomialNB\n",
    "clf = MultinomialNB().fit(X_train_tfidf, train.service_category)"
   ]
  },
  {
   "cell_type": "code",
   "execution_count": 29,
   "metadata": {},
   "outputs": [
    {
     "data": {
      "text/plain": [
       "array(['Manicure', 'Manicure', 'Braids', ..., 'Natural Hair', 'Manicure',\n",
       "       'Braids'], dtype='<U133')"
      ]
     },
     "execution_count": 29,
     "metadata": {},
     "output_type": "execute_result"
    }
   ],
   "source": [
    "#Use cross validating to avoid overfitting, we can repeat this process for 10 times and use average as measure\n",
    "v_new_counts = count_vect.transform(validate.service_name)\n",
    "v_new_tfidf = tfidf_transformer.transform(v_new_counts)\n",
    "v_predicted = clf.predict(v_new_tfidf)\n",
    "v_predicted"
   ]
  },
  {
   "cell_type": "code",
   "execution_count": 30,
   "metadata": {},
   "outputs": [],
   "source": [
    "X_new_counts = count_vect.transform(test.service_name)\n",
    "X_new_tfidf = tfidf_transformer.transform(X_new_counts)"
   ]
  },
  {
   "cell_type": "code",
   "execution_count": 31,
   "metadata": {},
   "outputs": [
    {
     "data": {
      "text/plain": [
       "array(['Natural Hair', 'Weaves', \"Women's Haircut\", ..., 'Braids',\n",
       "       \"Men's Haircut\", \"Women's Haircut\"], dtype='<U133')"
      ]
     },
     "execution_count": 31,
     "metadata": {},
     "output_type": "execute_result"
    }
   ],
   "source": [
    "predicted = clf.predict(X_new_tfidf)\n",
    "predicted"
   ]
  },
  {
   "cell_type": "code",
   "execution_count": 32,
   "metadata": {},
   "outputs": [
    {
     "data": {
      "text/plain": [
       "(2000,)"
      ]
     },
     "execution_count": 32,
     "metadata": {},
     "output_type": "execute_result"
    }
   ],
   "source": [
    "predicted.shape"
   ]
  },
  {
   "cell_type": "code",
   "execution_count": 36,
   "metadata": {},
   "outputs": [],
   "source": [
    "pd.DataFrame(predicted).to_csv(\"Siyu_Xiao_submission_problem_1.csv\", header=['service_category'])"
   ]
  }
 ],
 "metadata": {
  "kernelspec": {
   "display_name": "Python 3",
   "language": "python",
   "name": "python3"
  },
  "language_info": {
   "codemirror_mode": {
    "name": "ipython",
    "version": 3
   },
   "file_extension": ".py",
   "mimetype": "text/x-python",
   "name": "python",
   "nbconvert_exporter": "python",
   "pygments_lexer": "ipython3",
   "version": "3.6.8"
  }
 },
 "nbformat": 4,
 "nbformat_minor": 2
}
