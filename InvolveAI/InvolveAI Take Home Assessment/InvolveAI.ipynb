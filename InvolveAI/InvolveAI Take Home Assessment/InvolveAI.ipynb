{
 "cells": [
  {
   "cell_type": "code",
   "execution_count": 1,
   "id": "d8451c96",
   "metadata": {},
   "outputs": [],
   "source": [
    "# Task 1: Use any two ML models to predict whether the income will be >50k or <=50k\n",
    "import numpy as np\n",
    "import pandas as pd\n",
    "import matplotlib.pyplot as plt\n",
    "from sklearn.preprocessing import OneHotEncoder"
   ]
  },
  {
   "cell_type": "code",
   "execution_count": 2,
   "id": "f4ee7803",
   "metadata": {},
   "outputs": [],
   "source": [
    "train = pd.read_csv('adult_trdata.csv', header=None)\n",
    "test = pd.read_csv('adult_test.csv', skiprows=[0], header=None)\n",
    "df = pd.concat([train, test])\n",
    "df.columns = ['age', 'workclass', 'fnlwgt', 'education', 'education-num', 'marital-status', 'occupation', \n",
    "    'relationship', 'race', 'sex', 'capital-gain', 'capital-loss', 'hours-per-week', 'native-country', 'income']"
   ]
  },
  {
   "cell_type": "code",
   "execution_count": 3,
   "id": "250c4741",
   "metadata": {},
   "outputs": [
    {
     "name": "stdout",
     "output_type": "stream",
     "text": [
      "<class 'pandas.core.frame.DataFrame'>\n",
      "Int64Index: 48842 entries, 0 to 16280\n",
      "Data columns (total 15 columns):\n",
      " #   Column          Non-Null Count  Dtype \n",
      "---  ------          --------------  ----- \n",
      " 0   age             48842 non-null  int64 \n",
      " 1   workclass       48842 non-null  object\n",
      " 2   fnlwgt          48842 non-null  int64 \n",
      " 3   education       48842 non-null  object\n",
      " 4   education-num   48842 non-null  int64 \n",
      " 5   marital-status  48842 non-null  object\n",
      " 6   occupation      48842 non-null  object\n",
      " 7   relationship    48842 non-null  object\n",
      " 8   race            48842 non-null  object\n",
      " 9   sex             48842 non-null  object\n",
      " 10  capital-gain    48842 non-null  int64 \n",
      " 11  capital-loss    48842 non-null  int64 \n",
      " 12  hours-per-week  48842 non-null  int64 \n",
      " 13  native-country  48842 non-null  object\n",
      " 14  income          48842 non-null  object\n",
      "dtypes: int64(6), object(9)\n",
      "memory usage: 6.0+ MB\n"
     ]
    }
   ],
   "source": [
    "#check whether there are missing values, we can see all the values are non-null\n",
    "df.info()"
   ]
  },
  {
   "cell_type": "code",
   "execution_count": 4,
   "id": "e2ea318b",
   "metadata": {},
   "outputs": [
    {
     "data": {
      "text/plain": [
       "age                  74\n",
       "workclass             9\n",
       "fnlwgt            28523\n",
       "education            16\n",
       "education-num        16\n",
       "marital-status        7\n",
       "occupation           15\n",
       "relationship          6\n",
       "race                  5\n",
       "sex                   2\n",
       "capital-gain        123\n",
       "capital-loss         99\n",
       "hours-per-week       96\n",
       "native-country       42\n",
       "income                4\n",
       "dtype: int64"
      ]
     },
     "execution_count": 4,
     "metadata": {},
     "output_type": "execute_result"
    }
   ],
   "source": [
    "#check the unique value counts and find we need to optimize the variable of income\n",
    "df.nunique()"
   ]
  },
  {
   "cell_type": "code",
   "execution_count": 5,
   "id": "11252801",
   "metadata": {},
   "outputs": [
    {
     "data": {
      "text/plain": [
       "array([' <=50K', ' >50K', ' <=50K.', ' >50K.'], dtype=object)"
      ]
     },
     "execution_count": 5,
     "metadata": {},
     "output_type": "execute_result"
    }
   ],
   "source": [
    "df['income'].unique()"
   ]
  },
  {
   "cell_type": "code",
   "execution_count": 6,
   "id": "8e395e5a",
   "metadata": {},
   "outputs": [],
   "source": [
    "df = df.replace([' <=50K', ' <=50K.'], 0)\n",
    "df = df.replace([' >50K', ' >50K.'], 1)"
   ]
  },
  {
   "cell_type": "code",
   "execution_count": 7,
   "id": "c01b88c6",
   "metadata": {},
   "outputs": [
    {
     "data": {
      "text/plain": [
       "0    37155\n",
       "1    11687\n",
       "Name: income, dtype: int64"
      ]
     },
     "execution_count": 7,
     "metadata": {},
     "output_type": "execute_result"
    }
   ],
   "source": [
    "df['income'].value_counts()"
   ]
  },
  {
   "cell_type": "code",
   "execution_count": 8,
   "id": "bb95d3f0",
   "metadata": {},
   "outputs": [
    {
     "data": {
      "image/png": "[encoded data removed]",
      "text/plain": [
       "<Figure size 432x288 with 1 Axes>"
      ]
     },
     "metadata": {
      "needs_background": "light"
     },
     "output_type": "display_data"
    }
   ],
   "source": [
    "# data visualization for income count, we can see most people's income is under 50k\n",
    "income = ['<=50k', '>50k']\n",
    "count = [37155, 11687]\n",
    "plt.barh(income, count)\n",
    "for index, value in enumerate(count):\n",
    "    plt.text(value, index, str(value))"
   ]
  },
  {
   "cell_type": "code",
   "execution_count": 9,
   "id": "3c6d60f5",
   "metadata": {},
   "outputs": [],
   "source": [
    "df_object = df[['workclass', 'education', 'marital-status', 'occupation', \n",
    "                'relationship', 'race', 'sex', 'native-country']]\n",
    "df_int = df[['age', 'fnlwgt', 'education-num', 'capital-gain', 'capital-loss', 'hours-per-week']]\n",
    "df_object_array = OneHotEncoder().fit_transform(df_object).toarray()\n",
    "df_array = np.concatenate((df_object_array, df_int), axis=1)\n",
    "df_label = df[['income']]\n",
    "train_data = df_array[:32561]\n",
    "train_label = df_label[:32561]\n",
    "test_data = df_array[32561:]\n",
    "test_label = df_label[32561:]"
   ]
  },
  {
   "cell_type": "code",
   "execution_count": 10,
   "id": "d75f51c2",
   "metadata": {},
   "outputs": [
    {
     "data": {
      "text/plain": [
       "'Accuracy: 0.8108224310546035'"
      ]
     },
     "execution_count": 10,
     "metadata": {},
     "output_type": "execute_result"
    }
   ],
   "source": [
    "# ML model 1: use decision tree to classify\n",
    "from sklearn import tree\n",
    "clf1 = tree.DecisionTreeClassifier()\n",
    "clf1 = clf1.fit(train_data, train_label)\n",
    "predict1 = clf1.predict(test_data)\n",
    "'Accuracy: {0}'.format((predict1 == test_label['income'].to_numpy()).sum() / len(test_data))"
   ]
  },
  {
   "cell_type": "code",
   "execution_count": 11,
   "id": "c095dd27",
   "metadata": {},
   "outputs": [
    {
     "data": {
      "text/plain": [
       "'Accuracy: 0.7996437565260119'"
      ]
     },
     "execution_count": 11,
     "metadata": {},
     "output_type": "execute_result"
    }
   ],
   "source": [
    "# ML model 2: use MLP neural network to classify\n",
    "from sklearn.neural_network import MLPClassifier\n",
    "clf2 = MLPClassifier()\n",
    "clf2.fit(train_data, train_label['income'].to_numpy())\n",
    "predict2 = clf2.predict(test_data)\n",
    "'Accuracy: {0}'.format((predict2 == test_label['income'].to_numpy()).sum() / len(test_data))"
   ]
  },
  {
   "cell_type": "code",
   "execution_count": 12,
   "id": "bd468a84",
   "metadata": {},
   "outputs": [],
   "source": [
    "# Task 2: set up an endpoint API for predicting the result from your best ML model\n",
    "import numpy as np\n",
    "import pandas as pd\n",
    "from sklearn import tree\n",
    "from sklearn.preprocessing import OneHotEncoder\n",
    "class api:\n",
    "    def classifier(self, single_row_data_index):\n",
    "        train = pd.read_csv('adult_trdata.csv', header=None)\n",
    "        test = pd.read_csv('adult_test.csv', skiprows=[0], header=None)\n",
    "        df = pd.concat([train, test])\n",
    "        df.columns = ['age', 'workclass', 'fnlwgt', 'education', 'education-num', 'marital-status', 'occupation', \n",
    "                        'relationship', 'race', 'sex', 'capital-gain', 'capital-loss', \n",
    "                        'hours-per-week', 'native-country', 'income']\n",
    "        df = df.replace([' <=50K', ' <=50K.'], 0)\n",
    "        df = df.replace([' >50K', ' >50K.'], 1)\n",
    "        df_object = df[['workclass', 'education', 'marital-status', 'occupation', \n",
    "                        'relationship', 'race', 'sex', 'native-country']]\n",
    "        df_int = df[['age', 'fnlwgt', 'education-num', 'capital-gain', 'capital-loss', 'hours-per-week']]\n",
    "        df_object_array = OneHotEncoder().fit_transform(df_object).toarray()\n",
    "        df_array = np.concatenate((df_object_array, df_int), axis=1)\n",
    "        df_label = df[['income']]\n",
    "        train_data = df_array[:32561]\n",
    "        train_label = df_label[:32561]\n",
    "        test_data = df_array[32561:]\n",
    "        # test_label = df_label[32561:]\n",
    "        clf = tree.DecisionTreeClassifier()\n",
    "        clf = clf.fit(train_data, train_label)\n",
    "        predict = clf.predict([test_data[single_row_data_index]])\n",
    "        # (predict == test_label['income'].to_numpy()).sum() / len(test_data)\n",
    "        return predict\n",
    "api = api()"
   ]
  },
  {
   "cell_type": "code",
   "execution_count": 13,
   "id": "6ceb6606",
   "metadata": {},
   "outputs": [
    {
     "data": {
      "text/plain": [
       "0                     25\n",
       "1                Private\n",
       "2                 226802\n",
       "3                   11th\n",
       "4                      7\n",
       "5          Never-married\n",
       "6      Machine-op-inspct\n",
       "7              Own-child\n",
       "8                  Black\n",
       "9                   Male\n",
       "10                     0\n",
       "11                     0\n",
       "12                    40\n",
       "13         United-States\n",
       "14                <=50K.\n",
       "Name: 0, dtype: object"
      ]
     },
     "execution_count": 13,
     "metadata": {},
     "output_type": "execute_result"
    }
   ],
   "source": [
    "# We can use index 0 row as our example to be the input\n",
    "test = pd.read_csv('adult_test.csv', skiprows=[0], header=None)\n",
    "test.iloc[0]"
   ]
  },
  {
   "cell_type": "code",
   "execution_count": 14,
   "id": "b32c63f3",
   "metadata": {},
   "outputs": [
    {
     "data": {
      "text/plain": [
       "array([0])"
      ]
     },
     "execution_count": 14,
     "metadata": {},
     "output_type": "execute_result"
    }
   ],
   "source": [
    "# We can see that the prediction of our api is 0, which means for this row, its income is <=50k\n",
    "api.classifier(0)"
   ]
  }
 ],
 "metadata": {
  "kernelspec": {
   "display_name": "Python 3",
   "language": "python",
   "name": "python3"
  },
  "language_info": {
   "codemirror_mode": {
    "name": "ipython",
    "version": 3
   },
   "file_extension": ".py",
   "mimetype": "text/x-python",
   "name": "python",
   "nbconvert_exporter": "python",
   "pygments_lexer": "ipython3",
   "version": "3.8.8"
  }
 },
 "nbformat": 4,
 "nbformat_minor": 5
}
