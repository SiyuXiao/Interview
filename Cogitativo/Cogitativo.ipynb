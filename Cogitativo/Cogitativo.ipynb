{
 "cells": [
  {
   "cell_type": "code",
   "execution_count": 1,
   "id": "3f53f440",
   "metadata": {},
   "outputs": [],
   "source": [
    "import pandas as pd\n",
    "import numpy as np\n",
    "from sklearn import tree\n",
    "from sklearn import preprocessing\n",
    "from sklearn.metrics import confusion_matrix\n",
    "from sklearn.neural_network import MLPClassifier\n",
    "from sklearn.model_selection import train_test_split"
   ]
  },
  {
   "cell_type": "code",
   "execution_count": 2,
   "id": "26ff6d1d",
   "metadata": {},
   "outputs": [
    {
     "data": {
      "text/html": [
       "<div>\n",
       "<style scoped>\n",
       "    .dataframe tbody tr th:only-of-type {\n",
       "        vertical-align: middle;\n",
       "    }\n",
       "\n",
       "    .dataframe tbody tr th {\n",
       "        vertical-align: top;\n",
       "    }\n",
       "\n",
       "    .dataframe thead th {\n",
       "        text-align: right;\n",
       "    }\n",
       "</style>\n",
       "<table border=\"1\" class=\"dataframe\">\n",
       "  <thead>\n",
       "    <tr style=\"text-align: right;\">\n",
       "      <th></th>\n",
       "      <th>Unnamed: 0</th>\n",
       "      <th>clinical_event_id</th>\n",
       "      <th>clinical_event_member_id</th>\n",
       "      <th>clinical_event_name</th>\n",
       "      <th>clinical_event_time</th>\n",
       "      <th>clinical_event_member_age</th>\n",
       "      <th>member_male</th>\n",
       "    </tr>\n",
       "  </thead>\n",
       "  <tbody>\n",
       "    <tr>\n",
       "      <th>0</th>\n",
       "      <td>1</td>\n",
       "      <td>1.0</td>\n",
       "      <td>1</td>\n",
       "      <td>ANNUAL VISIT</td>\n",
       "      <td>41</td>\n",
       "      <td>81</td>\n",
       "      <td>1</td>\n",
       "    </tr>\n",
       "    <tr>\n",
       "      <th>1</th>\n",
       "      <td>2</td>\n",
       "      <td>2.0</td>\n",
       "      <td>1</td>\n",
       "      <td>STROKE HOSPITALIZATION</td>\n",
       "      <td>641</td>\n",
       "      <td>81</td>\n",
       "      <td>1</td>\n",
       "    </tr>\n",
       "    <tr>\n",
       "      <th>2</th>\n",
       "      <td>3</td>\n",
       "      <td>3.0</td>\n",
       "      <td>1</td>\n",
       "      <td>HYPERTENSION MANAGEMENT VISIT</td>\n",
       "      <td>116</td>\n",
       "      <td>81</td>\n",
       "      <td>1</td>\n",
       "    </tr>\n",
       "    <tr>\n",
       "      <th>3</th>\n",
       "      <td>4</td>\n",
       "      <td>4.0</td>\n",
       "      <td>1</td>\n",
       "      <td>HYPERTENSION MANAGEMENT VISIT</td>\n",
       "      <td>293</td>\n",
       "      <td>81</td>\n",
       "      <td>1</td>\n",
       "    </tr>\n",
       "    <tr>\n",
       "      <th>4</th>\n",
       "      <td>5</td>\n",
       "      <td>5.0</td>\n",
       "      <td>2</td>\n",
       "      <td>ANNUAL VISIT</td>\n",
       "      <td>14</td>\n",
       "      <td>76</td>\n",
       "      <td>1</td>\n",
       "    </tr>\n",
       "    <tr>\n",
       "      <th>...</th>\n",
       "      <td>...</td>\n",
       "      <td>...</td>\n",
       "      <td>...</td>\n",
       "      <td>...</td>\n",
       "      <td>...</td>\n",
       "      <td>...</td>\n",
       "      <td>...</td>\n",
       "    </tr>\n",
       "    <tr>\n",
       "      <th>511841</th>\n",
       "      <td>511842</td>\n",
       "      <td>511842.0</td>\n",
       "      <td>199998</td>\n",
       "      <td>HEART FAILURE HOSPITALIZATION</td>\n",
       "      <td>29</td>\n",
       "      <td>78</td>\n",
       "      <td>1</td>\n",
       "    </tr>\n",
       "    <tr>\n",
       "      <th>511842</th>\n",
       "      <td>511843</td>\n",
       "      <td>511843.0</td>\n",
       "      <td>199998</td>\n",
       "      <td>HEART FAILURE HOSPITALIZATION</td>\n",
       "      <td>275</td>\n",
       "      <td>78</td>\n",
       "      <td>1</td>\n",
       "    </tr>\n",
       "    <tr>\n",
       "      <th>511843</th>\n",
       "      <td>511844</td>\n",
       "      <td>511844.0</td>\n",
       "      <td>199998</td>\n",
       "      <td>HEART FAILURE HOSPITALIZATION</td>\n",
       "      <td>278</td>\n",
       "      <td>78</td>\n",
       "      <td>1</td>\n",
       "    </tr>\n",
       "    <tr>\n",
       "      <th>511844</th>\n",
       "      <td>511845</td>\n",
       "      <td>511845.0</td>\n",
       "      <td>199999</td>\n",
       "      <td>ANNUAL VISIT</td>\n",
       "      <td>134</td>\n",
       "      <td>68</td>\n",
       "      <td>1</td>\n",
       "    </tr>\n",
       "    <tr>\n",
       "      <th>511845</th>\n",
       "      <td>511846</td>\n",
       "      <td>511846.0</td>\n",
       "      <td>200000</td>\n",
       "      <td>ANNUAL VISIT</td>\n",
       "      <td>127</td>\n",
       "      <td>63</td>\n",
       "      <td>1</td>\n",
       "    </tr>\n",
       "  </tbody>\n",
       "</table>\n",
       "<p>511846 rows × 7 columns</p>\n",
       "</div>"
      ],
      "text/plain": [
       "        Unnamed: 0  clinical_event_id  clinical_event_member_id  \\\n",
       "0                1                1.0                         1   \n",
       "1                2                2.0                         1   \n",
       "2                3                3.0                         1   \n",
       "3                4                4.0                         1   \n",
       "4                5                5.0                         2   \n",
       "...            ...                ...                       ...   \n",
       "511841      511842           511842.0                    199998   \n",
       "511842      511843           511843.0                    199998   \n",
       "511843      511844           511844.0                    199998   \n",
       "511844      511845           511845.0                    199999   \n",
       "511845      511846           511846.0                    200000   \n",
       "\n",
       "                  clinical_event_name  clinical_event_time  \\\n",
       "0                        ANNUAL VISIT                   41   \n",
       "1              STROKE HOSPITALIZATION                  641   \n",
       "2       HYPERTENSION MANAGEMENT VISIT                  116   \n",
       "3       HYPERTENSION MANAGEMENT VISIT                  293   \n",
       "4                        ANNUAL VISIT                   14   \n",
       "...                               ...                  ...   \n",
       "511841  HEART FAILURE HOSPITALIZATION                   29   \n",
       "511842  HEART FAILURE HOSPITALIZATION                  275   \n",
       "511843  HEART FAILURE HOSPITALIZATION                  278   \n",
       "511844                   ANNUAL VISIT                  134   \n",
       "511845                   ANNUAL VISIT                  127   \n",
       "\n",
       "        clinical_event_member_age  member_male  \n",
       "0                              81            1  \n",
       "1                              81            1  \n",
       "2                              81            1  \n",
       "3                              81            1  \n",
       "4                              76            1  \n",
       "...                           ...          ...  \n",
       "511841                         78            1  \n",
       "511842                         78            1  \n",
       "511843                         78            1  \n",
       "511844                         68            1  \n",
       "511845                         63            1  \n",
       "\n",
       "[511846 rows x 7 columns]"
      ]
     },
     "execution_count": 2,
     "metadata": {},
     "output_type": "execute_result"
    }
   ],
   "source": [
    "# read our data into a dataframe and have a look at the dataframe\n",
    "df = pd.read_csv('clinical_events.csv')\n",
    "df"
   ]
  },
  {
   "cell_type": "code",
   "execution_count": 3,
   "id": "74dbf5db",
   "metadata": {},
   "outputs": [
    {
     "name": "stdout",
     "output_type": "stream",
     "text": [
      "<class 'pandas.core.frame.DataFrame'>\n",
      "RangeIndex: 511846 entries, 0 to 511845\n",
      "Data columns (total 7 columns):\n",
      " #   Column                     Non-Null Count   Dtype  \n",
      "---  ------                     --------------   -----  \n",
      " 0   Unnamed: 0                 511846 non-null  int64  \n",
      " 1   clinical_event_id          511846 non-null  float64\n",
      " 2   clinical_event_member_id   511846 non-null  int64  \n",
      " 3   clinical_event_name        511846 non-null  object \n",
      " 4   clinical_event_time        511846 non-null  int64  \n",
      " 5   clinical_event_member_age  511846 non-null  int64  \n",
      " 6   member_male                511846 non-null  int64  \n",
      "dtypes: float64(1), int64(5), object(1)\n",
      "memory usage: 27.3+ MB\n"
     ]
    }
   ],
   "source": [
    "# see the data basic information like weather there are any missing values\n",
    "df.info()"
   ]
  },
  {
   "cell_type": "code",
   "execution_count": 4,
   "id": "91a38c97",
   "metadata": {},
   "outputs": [
    {
     "data": {
      "text/html": [
       "<div>\n",
       "<style scoped>\n",
       "    .dataframe tbody tr th:only-of-type {\n",
       "        vertical-align: middle;\n",
       "    }\n",
       "\n",
       "    .dataframe tbody tr th {\n",
       "        vertical-align: top;\n",
       "    }\n",
       "\n",
       "    .dataframe thead th {\n",
       "        text-align: right;\n",
       "    }\n",
       "</style>\n",
       "<table border=\"1\" class=\"dataframe\">\n",
       "  <thead>\n",
       "    <tr style=\"text-align: right;\">\n",
       "      <th></th>\n",
       "      <th>Unnamed: 0</th>\n",
       "      <th>clinical_event_id</th>\n",
       "      <th>clinical_event_member_id</th>\n",
       "      <th>clinical_event_time</th>\n",
       "      <th>clinical_event_member_age</th>\n",
       "      <th>member_male</th>\n",
       "    </tr>\n",
       "  </thead>\n",
       "  <tbody>\n",
       "    <tr>\n",
       "      <th>count</th>\n",
       "      <td>511846.000000</td>\n",
       "      <td>511846.000000</td>\n",
       "      <td>511846.000000</td>\n",
       "      <td>511846.000000</td>\n",
       "      <td>511846.000000</td>\n",
       "      <td>511846.0</td>\n",
       "    </tr>\n",
       "    <tr>\n",
       "      <th>mean</th>\n",
       "      <td>255923.500000</td>\n",
       "      <td>255923.500000</td>\n",
       "      <td>100045.459302</td>\n",
       "      <td>188.899161</td>\n",
       "      <td>73.197186</td>\n",
       "      <td>1.0</td>\n",
       "    </tr>\n",
       "    <tr>\n",
       "      <th>std</th>\n",
       "      <td>147757.357279</td>\n",
       "      <td>147757.357279</td>\n",
       "      <td>57797.624855</td>\n",
       "      <td>160.707576</td>\n",
       "      <td>7.211483</td>\n",
       "      <td>0.0</td>\n",
       "    </tr>\n",
       "    <tr>\n",
       "      <th>min</th>\n",
       "      <td>1.000000</td>\n",
       "      <td>1.000000</td>\n",
       "      <td>1.000000</td>\n",
       "      <td>0.000000</td>\n",
       "      <td>60.000000</td>\n",
       "      <td>1.0</td>\n",
       "    </tr>\n",
       "    <tr>\n",
       "      <th>25%</th>\n",
       "      <td>127962.250000</td>\n",
       "      <td>127962.250000</td>\n",
       "      <td>49939.250000</td>\n",
       "      <td>64.000000</td>\n",
       "      <td>67.000000</td>\n",
       "      <td>1.0</td>\n",
       "    </tr>\n",
       "    <tr>\n",
       "      <th>50%</th>\n",
       "      <td>255923.500000</td>\n",
       "      <td>255923.500000</td>\n",
       "      <td>100122.000000</td>\n",
       "      <td>129.000000</td>\n",
       "      <td>74.000000</td>\n",
       "      <td>1.0</td>\n",
       "    </tr>\n",
       "    <tr>\n",
       "      <th>75%</th>\n",
       "      <td>383884.750000</td>\n",
       "      <td>383884.750000</td>\n",
       "      <td>150001.000000</td>\n",
       "      <td>296.000000</td>\n",
       "      <td>80.000000</td>\n",
       "      <td>1.0</td>\n",
       "    </tr>\n",
       "    <tr>\n",
       "      <th>max</th>\n",
       "      <td>511846.000000</td>\n",
       "      <td>511846.000000</td>\n",
       "      <td>200000.000000</td>\n",
       "      <td>730.000000</td>\n",
       "      <td>85.000000</td>\n",
       "      <td>1.0</td>\n",
       "    </tr>\n",
       "  </tbody>\n",
       "</table>\n",
       "</div>"
      ],
      "text/plain": [
       "          Unnamed: 0  clinical_event_id  clinical_event_member_id  \\\n",
       "count  511846.000000      511846.000000             511846.000000   \n",
       "mean   255923.500000      255923.500000             100045.459302   \n",
       "std    147757.357279      147757.357279              57797.624855   \n",
       "min         1.000000           1.000000                  1.000000   \n",
       "25%    127962.250000      127962.250000              49939.250000   \n",
       "50%    255923.500000      255923.500000             100122.000000   \n",
       "75%    383884.750000      383884.750000             150001.000000   \n",
       "max    511846.000000      511846.000000             200000.000000   \n",
       "\n",
       "       clinical_event_time  clinical_event_member_age  member_male  \n",
       "count        511846.000000              511846.000000     511846.0  \n",
       "mean            188.899161                  73.197186          1.0  \n",
       "std             160.707576                   7.211483          0.0  \n",
       "min               0.000000                  60.000000          1.0  \n",
       "25%              64.000000                  67.000000          1.0  \n",
       "50%             129.000000                  74.000000          1.0  \n",
       "75%             296.000000                  80.000000          1.0  \n",
       "max             730.000000                  85.000000          1.0  "
      ]
     },
     "execution_count": 4,
     "metadata": {},
     "output_type": "execute_result"
    }
   ],
   "source": [
    "# see the basic statistics of our data\n",
    "df.describe()\n",
    "#We find that all the members all male, so member_male will not influence the analysis result"
   ]
  },
  {
   "cell_type": "code",
   "execution_count": 5,
   "id": "083429bb",
   "metadata": {},
   "outputs": [
    {
     "data": {
      "text/plain": [
       "label\n",
       "0        487025\n",
       "1         24821\n",
       "dtype: int64"
      ]
     },
     "execution_count": 5,
     "metadata": {},
     "output_type": "execute_result"
    }
   ],
   "source": [
    "# We add a column called \"label\" into our dataframe\n",
    "# We want to predict 'STROKE HOSPITALIZATION' so only this is 1, the others are 0\n",
    "df['label'] = df['clinical_event_name'].apply(lambda e: 1 if e == 'STROKE HOSPITALIZATION' else 0)\n",
    "df[['label']].value_counts() "
   ]
  },
  {
   "cell_type": "code",
   "execution_count": 6,
   "id": "39f5ec78",
   "metadata": {},
   "outputs": [],
   "source": [
    "# split our data into training data, training label, test data and test label\n",
    "train_data, test_data, train_label, test_label = train_test_split(df[['clinical_event_time', 'clinical_event_member_age']], df['label'], test_size=50000, random_state=42)"
   ]
  },
  {
   "cell_type": "code",
   "execution_count": 7,
   "id": "00170769",
   "metadata": {},
   "outputs": [],
   "source": [
    "# Method 1: use decision tree to classify the data\n",
    "clf1 = tree.DecisionTreeClassifier()\n",
    "clf1 = clf1.fit(train_data, train_label)"
   ]
  },
  {
   "cell_type": "code",
   "execution_count": 8,
   "id": "fea7a145",
   "metadata": {},
   "outputs": [],
   "source": [
    "predict1 = clf1.predict(test_data)"
   ]
  },
  {
   "cell_type": "code",
   "execution_count": 9,
   "id": "f2468e94",
   "metadata": {},
   "outputs": [
    {
     "data": {
      "text/plain": [
       "array([[47630,     0],\n",
       "       [    0,  2370]])"
      ]
     },
     "execution_count": 9,
     "metadata": {},
     "output_type": "execute_result"
    }
   ],
   "source": [
    "# Here is the confusion matrix of decision prediction result, we can see that the accuracy is 100%\n",
    "confusion_matrix(test_label, predict1)"
   ]
  },
  {
   "cell_type": "code",
   "execution_count": 10,
   "id": "c628b5b6",
   "metadata": {},
   "outputs": [],
   "source": [
    "#Method 2: use MLP to classify the data\n",
    "max_abs_scaler = preprocessing.MaxAbsScaler()\n",
    "X_train_maxabs = max_abs_scaler.fit_transform(train_data)\n",
    "X_test_maxabs = max_abs_scaler.fit_transform(test_data)"
   ]
  },
  {
   "cell_type": "code",
   "execution_count": 11,
   "id": "e803d1eb",
   "metadata": {},
   "outputs": [
    {
     "data": {
      "text/plain": [
       "MLPClassifier(alpha=1e-05, hidden_layer_sizes=(5, 2), random_state=1,\n",
       "              solver='lbfgs')"
      ]
     },
     "execution_count": 11,
     "metadata": {},
     "output_type": "execute_result"
    }
   ],
   "source": [
    "clf2 = MLPClassifier(solver='lbfgs', alpha=1e-5, hidden_layer_sizes=(5, 2), random_state=1)\n",
    "clf2.fit(X_train_maxabs, train_label)"
   ]
  },
  {
   "cell_type": "code",
   "execution_count": 12,
   "id": "cc8e3ddc",
   "metadata": {},
   "outputs": [],
   "source": [
    "predict2 = clf2.predict(X_test_maxabs)"
   ]
  },
  {
   "cell_type": "code",
   "execution_count": 13,
   "id": "25191f6b",
   "metadata": {},
   "outputs": [
    {
     "data": {
      "text/plain": [
       "array([[47630,     0],\n",
       "       [    0,  2370]])"
      ]
     },
     "execution_count": 13,
     "metadata": {},
     "output_type": "execute_result"
    }
   ],
   "source": [
    "# Here is the confusion matrix of MLP result, we can see that the accuracy is 100%\n",
    "confusion_matrix(test_label, predict2)"
   ]
  },
  {
   "cell_type": "markdown",
   "id": "cb85b6d8",
   "metadata": {},
   "source": [
    "Let's see which data attributes are predominately influencing stroke risk\n",
    "For one clinical member, the age is the same, but can have multiple clinical_event_names\n",
    "So my assumption is that clinical_event_time is the most important attribute\n",
    "Let's use only clinical_event_time to do the prediction again"
   ]
  },
  {
   "cell_type": "code",
   "execution_count": 14,
   "id": "0a041394",
   "metadata": {},
   "outputs": [
    {
     "data": {
      "text/plain": [
       "array([[47630,     0],\n",
       "       [    0,  2370]])"
      ]
     },
     "execution_count": 14,
     "metadata": {},
     "output_type": "execute_result"
    }
   ],
   "source": [
    "# We can see from the result, the accuracy is still 100%, so my assumption is correct\n",
    "# clinical_event_time is the most important attribute\n",
    "train_data, test_data, train_label, test_label = train_test_split(df[['clinical_event_time']], df['label'], test_size=50000, random_state=42)\n",
    "clf = tree.DecisionTreeClassifier()\n",
    "clf = clf1.fit(train_data, train_label)\n",
    "predict = clf.predict(test_data)\n",
    "confusion_matrix(test_label, predict)"
   ]
  },
  {
   "cell_type": "code",
   "execution_count": 15,
   "id": "841f75be",
   "metadata": {},
   "outputs": [
    {
     "data": {
      "text/plain": [
       "array([[47630,     0],\n",
       "       [ 2370,     0]])"
      ]
     },
     "execution_count": 15,
     "metadata": {},
     "output_type": "execute_result"
    }
   ],
   "source": [
    "# Let's try to use only clinical_event_member_age\n",
    "# We can see it predict all data with the label of True\n",
    "# So clinical_event_member_age is not an useful attribute to do the classification\n",
    "train_data, test_data, train_label, test_label = train_test_split(df[['clinical_event_member_age']], df['label'], test_size=50000, random_state=42)\n",
    "clf = tree.DecisionTreeClassifier()\n",
    "clf = clf1.fit(train_data, train_label)\n",
    "predict = clf.predict(test_data)\n",
    "confusion_matrix(test_label, predict)"
   ]
  }
 ],
 "metadata": {
  "kernelspec": {
   "display_name": "Python 3",
   "language": "python",
   "name": "python3"
  },
  "language_info": {
   "codemirror_mode": {
    "name": "ipython",
    "version": 3
   },
   "file_extension": ".py",
   "mimetype": "text/x-python",
   "name": "python",
   "nbconvert_exporter": "python",
   "pygments_lexer": "ipython3",
   "version": "3.8.8"
  }
 },
 "nbformat": 4,
 "nbformat_minor": 5
}
