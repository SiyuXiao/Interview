{
 "cells": [
  {
   "cell_type": "code",
   "execution_count": 205,
   "metadata": {},
   "outputs": [
    {
     "data": {
      "text/plain": [
       "[4, 5, 5, 6, 8]"
      ]
     },
     "execution_count": 205,
     "metadata": {},
     "output_type": "execute_result"
    }
   ],
   "source": [
    "a = {1:4, 2:6, 3:5, 4:5, 7:8}\n",
    "b = sorted(a.values())\n",
    "b"
   ]
  },
  {
   "cell_type": "code",
   "execution_count": 206,
   "metadata": {},
   "outputs": [
    {
     "data": {
      "text/plain": [
       "[1, 3, 4, 2, 7]"
      ]
     },
     "execution_count": 206,
     "metadata": {},
     "output_type": "execute_result"
    }
   ],
   "source": [
    "s = []\n",
    "r1 = []\n",
    "for c in b:\n",
    "    r = []\n",
    "    for d in a:\n",
    "        if a[d] == c:\n",
    "            r.append(d)\n",
    "    if r in s:\n",
    "        continue\n",
    "    else:\n",
    "        s.append(r)\n",
    "        r1 += r\n",
    "r1"
   ]
  },
  {
   "cell_type": "code",
   "execution_count": 207,
   "metadata": {},
   "outputs": [
    {
     "data": {
      "text/plain": [
       "{4: 1, 5: 2, 6: 1, 8: 1}"
      ]
     },
     "execution_count": 207,
     "metadata": {},
     "output_type": "execute_result"
    }
   ],
   "source": [
    "dic = {}\n",
    "for w in b:\n",
    "    if w in dic:\n",
    "        dic[w] += 1\n",
    "    else:\n",
    "        dic[w] = 1\n",
    "dic"
   ]
  },
  {
   "cell_type": "code",
   "execution_count": 209,
   "metadata": {},
   "outputs": [
    {
     "data": {
      "text/plain": [
       "[1, 3, 4, 2, 7]"
      ]
     },
     "execution_count": 209,
     "metadata": {},
     "output_type": "execute_result"
    }
   ],
   "source": [
    "r2 = []\n",
    "i = 0\n",
    "while i < len(b):\n",
    "    if dic[b[i]] == 1:\n",
    "        r2.append(r1[i])\n",
    "        i += 1\n",
    "    else:\n",
    "        r2 = r2 + sorted(r1[i:i+dic[b[i]]])\n",
    "        i += dic[b[i]]\n",
    "r2"
   ]
  },
  {
   "cell_type": "code",
   "execution_count": 212,
   "metadata": {},
   "outputs": [
    {
     "data": {
      "text/plain": [
       "[['4:1'], ['5:3'], ['5:4'], ['6:2'], ['8:7']]"
      ]
     },
     "execution_count": 212,
     "metadata": {},
     "output_type": "execute_result"
    }
   ],
   "source": [
    "f = []\n",
    "for i in range(len(b)):\n",
    "    f.append([str(b[i])+':'+str(r2[i])])\n",
    "f"
   ]
  },
  {
   "cell_type": "code",
   "execution_count": 67,
   "metadata": {},
   "outputs": [
    {
     "data": {
      "text/plain": [
       "[(0, 0), (2, 1), (1, 2), (4, 3), (3, 4)]"
      ]
     },
     "execution_count": 67,
     "metadata": {},
     "output_type": "execute_result"
    }
   ],
   "source": [
    "import operator\n",
    "x = {1: 2, 3: 4, 4: 3, 2: 1, 0: 0}\n",
    "sorted_x = sorted(x.items(), key=operator.itemgetter(1))\n",
    "sorted_x"
   ]
  },
  {
   "cell_type": "code",
   "execution_count": 69,
   "metadata": {},
   "outputs": [
    {
     "data": {
      "text/plain": [
       "dict_items([('brand', 'Ford'), ('model', 'Mustang'), ('year', 1964)])"
      ]
     },
     "execution_count": 69,
     "metadata": {},
     "output_type": "execute_result"
    }
   ],
   "source": [
    "#items()函数使用例子\n",
    "car = {\"brand\": \"Ford\", \"model\": \"Mustang\", \"year\": 1964}\n",
    "x = car.items()\n",
    "x"
   ]
  },
  {
   "cell_type": "code",
   "execution_count": 1,
   "metadata": {},
   "outputs": [
    {
     "name": "stdout",
     "output_type": "stream",
     "text": [
      "['c', 'b', 'b', 'a', 'a', 'a']\n"
     ]
    }
   ],
   "source": [
    "#排序的的时候不一定排的是自己本身的值，也可以是本身所对应的键值\n",
    "def heap_sort(lst):\n",
    "    d = {}\n",
    "    for a in lst:\n",
    "        if a not in d:\n",
    "            d[a] = 1\n",
    "        else:\n",
    "            d[a] += 1\n",
    "    def sift_down(start, end):\n",
    "        root = start\n",
    "        while True:\n",
    "            child = 2*root + 1\n",
    "            if child > end:\n",
    "                break\n",
    "            if child + 1 <= end and d[lst[child]] < d[lst[child + 1]]:\n",
    "                child += 1\n",
    "            if d[lst[root]] < d[lst[child]]:\n",
    "                lst[root], lst[child] = lst[child], lst[root]\n",
    "                root = child\n",
    "            else:\n",
    "                break\n",
    "    for start in range((len(lst) - 2) // 2, -1, -1):\n",
    "        sift_down(start, len(lst) - 1)\n",
    "    for end in range(len(lst) - 1, 0, -1):\n",
    "        lst[0], lst[end] = lst[end], lst[0]\n",
    "        sift_down(0, end - 1)\n",
    "    return lst\n",
    "print(heap_sort(['a', 'a', 'a', 'b', 'b', 'c']))"
   ]
  }
 ],
 "metadata": {
  "kernelspec": {
   "display_name": "Python 3",
   "language": "python",
   "name": "python3"
  },
  "language_info": {
   "codemirror_mode": {
    "name": "ipython",
    "version": 3
   },
   "file_extension": ".py",
   "mimetype": "text/x-python",
   "name": "python",
   "nbconvert_exporter": "python",
   "pygments_lexer": "ipython3",
   "version": "3.6.8"
  }
 },
 "nbformat": 4,
 "nbformat_minor": 2
}
