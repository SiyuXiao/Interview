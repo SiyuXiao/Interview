{
 "cells": [
  {
   "cell_type": "code",
   "execution_count": null,
   "id": "e9b83dce",
   "metadata": {},
   "outputs": [],
   "source": [
    "Question 1 - Generate \"Bitcoin Prices\"\n",
    "1.0) Generate 365 random numbers [precision = 2 digits] between $5000.00 and $7999.99 (Bitcoin prices)"
   ]
  },
  {
   "cell_type": "code",
   "execution_count": null,
   "id": "73e0c768",
   "metadata": {},
   "outputs": [],
   "source": [
    "1.1) Print the mean and the median of the generated bitcoin prices"
   ]
  },
  {
   "cell_type": "code",
   "execution_count": null,
   "id": "16f6569e",
   "metadata": {},
   "outputs": [],
   "source": [
    "1.2) How many times was the bit coin price greater than or equal to $6,000"
   ]
  },
  {
   "cell_type": "code",
   "execution_count": 7,
   "id": "da639ac9",
   "metadata": {},
   "outputs": [],
   "source": [
    "import random\n",
    "rand = [round(random.uniform(5000.00, 7999.99), 2) for i in range(365)]"
   ]
  },
  {
   "cell_type": "code",
   "execution_count": 8,
   "id": "d83f28c4",
   "metadata": {},
   "outputs": [
    {
     "data": {
      "text/plain": [
       "6495.9943835616405"
      ]
     },
     "execution_count": 8,
     "metadata": {},
     "output_type": "execute_result"
    }
   ],
   "source": [
    "mean = sum(rand) / 365\n",
    "mean"
   ]
  },
  {
   "cell_type": "code",
   "execution_count": 9,
   "id": "fa498438",
   "metadata": {},
   "outputs": [
    {
     "data": {
      "text/plain": [
       "6501.54"
      ]
     },
     "execution_count": 9,
     "metadata": {},
     "output_type": "execute_result"
    }
   ],
   "source": [
    "median = sorted(rand)[182]\n",
    "median"
   ]
  },
  {
   "cell_type": "code",
   "execution_count": 10,
   "id": "b6da3501",
   "metadata": {},
   "outputs": [
    {
     "data": {
      "text/plain": [
       "6495.994383561644"
      ]
     },
     "execution_count": 10,
     "metadata": {},
     "output_type": "execute_result"
    }
   ],
   "source": [
    "from statistics import mean\n",
    "mean = mean(rand)\n",
    "mean"
   ]
  },
  {
   "cell_type": "code",
   "execution_count": 11,
   "id": "03c6feef",
   "metadata": {},
   "outputs": [
    {
     "data": {
      "text/plain": [
       "6501.54"
      ]
     },
     "execution_count": 11,
     "metadata": {},
     "output_type": "execute_result"
    }
   ],
   "source": [
    "from statistics import median\n",
    "median = median(rand)\n",
    "median"
   ]
  },
  {
   "cell_type": "code",
   "execution_count": 12,
   "id": "cb0cb674",
   "metadata": {},
   "outputs": [
    {
     "data": {
      "text/plain": [
       "232"
      ]
     },
     "execution_count": 12,
     "metadata": {},
     "output_type": "execute_result"
    }
   ],
   "source": [
    "c = 0\n",
    "for e in rand:\n",
    "    if e >= 6000:\n",
    "        c += 1\n",
    "c"
   ]
  },
  {
   "cell_type": "code",
   "execution_count": null,
   "id": "62bbfa2d",
   "metadata": {},
   "outputs": [],
   "source": [
    "Question 2 - Invest in Bitcoins\n",
    "Write a function to - \n",
    "2.0) Start with $10,000 in Cash Wallet and 0 Units in Bitcoin Wallet\n",
    "2.1) Day 1 - Buy $5,000 worth of Bitcoins\n",
    "2.2) Day 2 - Do nothing\n",
    "2.3) From Day 3 to Day 365\n",
    " - Sell: if price increased consecutively for the last two days,  sell 50% of [Bit Coin Wallet]\n",
    " - Buy:  if price reduced consecutively for the last two days, buy Bitcoins using 50% of [Cash wallet]\n",
    " - No Transaction: if prices have not varied as mentioned above\n",
    "\n",
    "Store daily transactions in a \"Results Data Frame\"\n",
    " - Column names in Results Data frame = [Serial No, PRICE, CASH_WALLET, BITCOIN_WALLET, TRANSACTION, NET_WORTH]"
   ]
  },
  {
   "cell_type": "code",
   "execution_count": null,
   "id": "c606adaa",
   "metadata": {},
   "outputs": [],
   "source": [
    "jayaram.akkinepally@verizon.com"
   ]
  },
  {
   "cell_type": "code",
   "execution_count": 114,
   "id": "b0f37b52",
   "metadata": {},
   "outputs": [],
   "source": [
    "price = rand\n",
    "cash_wallet_1 = 10000 - 5000\n",
    "cash_wallet_1\n",
    "bitcoin_wallet_1 = 5000 / price[0]\n",
    "bitcoin_wallet_2 = bitcoin_wallet_1\n",
    "price[1]\n",
    "cash_wallet_2 = cash_wallet_1\n",
    "bitcoin_wallet_2 = bitcoin_wallet_1"
   ]
  },
  {
   "cell_type": "code",
   "execution_count": 115,
   "id": "fdbb9a8f",
   "metadata": {},
   "outputs": [
    {
     "data": {
      "text/plain": [
       "[5000, 5000]"
      ]
     },
     "execution_count": 115,
     "metadata": {},
     "output_type": "execute_result"
    }
   ],
   "source": [
    "cash_wallet = [cash_wallet_1, cash_wallet_2]\n",
    "cash_wallet"
   ]
  },
  {
   "cell_type": "code",
   "execution_count": 116,
   "id": "f95f2561",
   "metadata": {},
   "outputs": [
    {
     "data": {
      "text/plain": [
       "['buy', None]"
      ]
     },
     "execution_count": 116,
     "metadata": {},
     "output_type": "execute_result"
    }
   ],
   "source": [
    "transaction = ['buy', None]\n",
    "transaction"
   ]
  },
  {
   "cell_type": "code",
   "execution_count": 117,
   "id": "cf95c9db",
   "metadata": {},
   "outputs": [
    {
     "data": {
      "text/plain": [
       "[0.8789848779441598, 0.8789848779441598]"
      ]
     },
     "execution_count": 117,
     "metadata": {},
     "output_type": "execute_result"
    }
   ],
   "source": [
    "bitcoin_wallet = [bitcoin_wallet_1, bitcoin_wallet_2]\n",
    "bitcoin_wallet"
   ]
  },
  {
   "cell_type": "code",
   "execution_count": 118,
   "id": "f656a1b5",
   "metadata": {},
   "outputs": [
    {
     "data": {
      "text/plain": [
       "[10000.0, 10198.6]"
      ]
     },
     "execution_count": 118,
     "metadata": {},
     "output_type": "execute_result"
    }
   ],
   "source": [
    "net_worth = [round(cash_wallet_1 + price[0]*bitcoin_wallet_1, 2), round(cash_wallet_2 + price[1]*bitcoin_wallet_2, 2)]\n",
    "net_worth"
   ]
  },
  {
   "cell_type": "code",
   "execution_count": 119,
   "id": "48252abc",
   "metadata": {},
   "outputs": [],
   "source": [
    "for i in range(2, 365):\n",
    "    if price[i] > price[i-1] and price[i-1] > price[i-2]:\n",
    "        transaction.append('sell')\n",
    "        cash_wallet.append(round(cash_wallet[i-1] + price[i] * bitcoin_wallet[i-1] * 0.5, 2))\n",
    "        bitcoin_wallet.append(bitcoin_wallet[i-1] - bitcoin_wallet[i-1] * 0.5)\n",
    "        net_worth.append(round(cash_wallet[-1] +bitcoin_wallet[-1] * price[i], 2))\n",
    "    elif price[i] < price[i-1] and price[i-1] < price[i-2]:\n",
    "        transaction.append('buy')\n",
    "        cash_wallet.append(round(cash_wallet[i-1] - cash_wallet[i-1] * 0.5, 2))\n",
    "        bitcoin_wallet.append(bitcoin_wallet[i-1] + cash_wallet[i-1] * 0.5 / price[i])\n",
    "        net_worth.append(round(cash_wallet[-1] +bitcoin_wallet[-1] * price[i], 2))\n",
    "    else:\n",
    "        transaction.append(None)\n",
    "        cash_wallet.append(cash_wallet[-1])\n",
    "        bitcoin_wallet.append(bitcoin_wallet[-1])\n",
    "        net_worth.append(round(cash_wallet[-1] +bitcoin_wallet[-1] * price[i], 2))"
   ]
  },
  {
   "cell_type": "code",
   "execution_count": 120,
   "id": "b4d302ba",
   "metadata": {},
   "outputs": [
    {
     "data": {
      "text/html": [
       "<div>\n",
       "<style scoped>\n",
       "    .dataframe tbody tr th:only-of-type {\n",
       "        vertical-align: middle;\n",
       "    }\n",
       "\n",
       "    .dataframe tbody tr th {\n",
       "        vertical-align: top;\n",
       "    }\n",
       "\n",
       "    .dataframe thead th {\n",
       "        text-align: right;\n",
       "    }\n",
       "</style>\n",
       "<table border=\"1\" class=\"dataframe\">\n",
       "  <thead>\n",
       "    <tr style=\"text-align: right;\">\n",
       "      <th></th>\n",
       "      <th>serial_no</th>\n",
       "      <th>price</th>\n",
       "      <th>cash_wallet</th>\n",
       "      <th>bitcoin_wallet</th>\n",
       "      <th>transaction</th>\n",
       "      <th>net_worth</th>\n",
       "    </tr>\n",
       "  </thead>\n",
       "  <tbody>\n",
       "    <tr>\n",
       "      <th>0</th>\n",
       "      <td>1</td>\n",
       "      <td>5688.38</td>\n",
       "      <td>5000.00</td>\n",
       "      <td>0.878985</td>\n",
       "      <td>buy</td>\n",
       "      <td>10000.00</td>\n",
       "    </tr>\n",
       "    <tr>\n",
       "      <th>1</th>\n",
       "      <td>2</td>\n",
       "      <td>5914.32</td>\n",
       "      <td>5000.00</td>\n",
       "      <td>0.878985</td>\n",
       "      <td>None</td>\n",
       "      <td>10198.60</td>\n",
       "    </tr>\n",
       "    <tr>\n",
       "      <th>2</th>\n",
       "      <td>3</td>\n",
       "      <td>6499.83</td>\n",
       "      <td>7856.63</td>\n",
       "      <td>0.439492</td>\n",
       "      <td>sell</td>\n",
       "      <td>10713.26</td>\n",
       "    </tr>\n",
       "    <tr>\n",
       "      <th>3</th>\n",
       "      <td>4</td>\n",
       "      <td>5893.25</td>\n",
       "      <td>7856.63</td>\n",
       "      <td>0.439492</td>\n",
       "      <td>None</td>\n",
       "      <td>10446.67</td>\n",
       "    </tr>\n",
       "    <tr>\n",
       "      <th>4</th>\n",
       "      <td>5</td>\n",
       "      <td>5174.05</td>\n",
       "      <td>3928.32</td>\n",
       "      <td>1.198727</td>\n",
       "      <td>buy</td>\n",
       "      <td>10130.59</td>\n",
       "    </tr>\n",
       "    <tr>\n",
       "      <th>...</th>\n",
       "      <td>...</td>\n",
       "      <td>...</td>\n",
       "      <td>...</td>\n",
       "      <td>...</td>\n",
       "      <td>...</td>\n",
       "      <td>...</td>\n",
       "    </tr>\n",
       "    <tr>\n",
       "      <th>360</th>\n",
       "      <td>361</td>\n",
       "      <td>7089.43</td>\n",
       "      <td>192805.14</td>\n",
       "      <td>40.837375</td>\n",
       "      <td>None</td>\n",
       "      <td>482318.85</td>\n",
       "    </tr>\n",
       "    <tr>\n",
       "      <th>361</th>\n",
       "      <td>362</td>\n",
       "      <td>7788.88</td>\n",
       "      <td>351843.85</td>\n",
       "      <td>20.418688</td>\n",
       "      <td>sell</td>\n",
       "      <td>510882.56</td>\n",
       "    </tr>\n",
       "    <tr>\n",
       "      <th>362</th>\n",
       "      <td>363</td>\n",
       "      <td>6802.19</td>\n",
       "      <td>351843.85</td>\n",
       "      <td>20.418688</td>\n",
       "      <td>None</td>\n",
       "      <td>490735.64</td>\n",
       "    </tr>\n",
       "    <tr>\n",
       "      <th>363</th>\n",
       "      <td>364</td>\n",
       "      <td>5817.12</td>\n",
       "      <td>175921.92</td>\n",
       "      <td>50.660788</td>\n",
       "      <td>buy</td>\n",
       "      <td>470621.80</td>\n",
       "    </tr>\n",
       "    <tr>\n",
       "      <th>364</th>\n",
       "      <td>365</td>\n",
       "      <td>7390.76</td>\n",
       "      <td>175921.92</td>\n",
       "      <td>50.660788</td>\n",
       "      <td>None</td>\n",
       "      <td>550343.64</td>\n",
       "    </tr>\n",
       "  </tbody>\n",
       "</table>\n",
       "<p>365 rows × 6 columns</p>\n",
       "</div>"
      ],
      "text/plain": [
       "     serial_no    price  cash_wallet  bitcoin_wallet transaction  net_worth\n",
       "0            1  5688.38      5000.00        0.878985         buy   10000.00\n",
       "1            2  5914.32      5000.00        0.878985        None   10198.60\n",
       "2            3  6499.83      7856.63        0.439492        sell   10713.26\n",
       "3            4  5893.25      7856.63        0.439492        None   10446.67\n",
       "4            5  5174.05      3928.32        1.198727         buy   10130.59\n",
       "..         ...      ...          ...             ...         ...        ...\n",
       "360        361  7089.43    192805.14       40.837375        None  482318.85\n",
       "361        362  7788.88    351843.85       20.418688        sell  510882.56\n",
       "362        363  6802.19    351843.85       20.418688        None  490735.64\n",
       "363        364  5817.12    175921.92       50.660788         buy  470621.80\n",
       "364        365  7390.76    175921.92       50.660788        None  550343.64\n",
       "\n",
       "[365 rows x 6 columns]"
      ]
     },
     "execution_count": 120,
     "metadata": {},
     "output_type": "execute_result"
    }
   ],
   "source": [
    "import pandas as pd\n",
    "Results_Data_Frame = pd.DataFrame({'serial_no':serial_no, 'price': price, 'cash_wallet': cash_wallet, \\\n",
    "              'bitcoin_wallet': bitcoin_wallet, 'transaction': transaction, 'net_worth': net_worth})\n",
    "Results_Data_Frame"
   ]
  }
 ],
 "metadata": {
  "kernelspec": {
   "display_name": "Python 3",
   "language": "python",
   "name": "python3"
  },
  "language_info": {
   "codemirror_mode": {
    "name": "ipython",
    "version": 3
   },
   "file_extension": ".py",
   "mimetype": "text/x-python",
   "name": "python",
   "nbconvert_exporter": "python",
   "pygments_lexer": "ipython3",
   "version": "3.8.8"
  }
 },
 "nbformat": 4,
 "nbformat_minor": 5
}
